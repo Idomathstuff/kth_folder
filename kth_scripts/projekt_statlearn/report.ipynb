{
 "cells": [
  {
   "cell_type": "markdown",
   "metadata": {},
   "source": [
    "### Uppvärmning"
   ]
  },
  {
   "cell_type": "code",
   "execution_count": 4,
   "metadata": {},
   "outputs": [],
   "source": [
    "from scipy import stats\n",
    "import numpy as np\n",
    "import matplotlib.pyplot as plt\n",
    "import scipy.special\n",
    "import pandas as pd\n",
    "from numeriska_metoder import newton_raphson\n",
    "# pdf = lambda x: 2*np.exp(-2*x);\n",
    "# Finv = lambda u: -(1/2)*np.log(u)\n",
    "df = pd.read_csv(\"SLS22.csv\") #data frame \n",
    "Lcq_ids = [\"Majerus\", \"Oliveira\",\"Decenzo\",\"Santiago\", \"Papa\", \"Eaton\", \"Mota\", \"Shirai\", \n",
    "           \"Jordan\", \"Hoefler\", \"Hoban\", \"Gustavo\", \"Ribeiro C\", \"O’neill\", \"Foy\", \"Midler\"]\n",
    "Lcq_ids = [\"Majerus\", \"Oliveira\", \"O’neill\", \"Santiago\", \"Papa\", \"Ribeiro C\", \"Mota\", \"Shirai\",\n",
    "           \"Jordan\", \"Hoefler\", \"Foy\", \"Midler\", \"Gustavo\", \"Hoban\", \"Eaton\", \"Decenzo\"]\n",
    "def init_normal_dataframe():\n",
    "    ndf = df\n",
    "    ndf[\"run 1\"] = [x/10 for x in df[\"run 1\"]]\n",
    "    ndf[\"run 2\"] = [x/10 for x in df[\"run 2\"]]\n",
    "    ndf[\"trick 1\"] = [x/10 for x in df[\"trick 1\"]]\n",
    "    ndf[\"trick 2\"] = [x/10 for x in df[\"trick 2\"]]\n",
    "    ndf[\"trick 3\"] = [x/10 for x in df[\"trick 3\"]]\n",
    "    ndf[\"trick 4\"] = [x/10 for x in df[\"trick 4\"]]\n",
    "    ndf[\"trick 5\"] = [x/10 for x in df[\"trick 5\"]]\n",
    "    ndf[\"trick 6\"] = [x/10 for x in df[\"trick 6\"]]\n",
    "    ndf[\"make 1\"] = [int(bool(x)) for x in df[\"trick 1\"].values.tolist()]\n",
    "    ndf[\"make 2\"] = [int(bool(x)) for x in df[\"trick 2\"].values.tolist()]\n",
    "    ndf[\"make 3\"] = [int(bool(x)) for x in df[\"trick 3\"].values.tolist()]\n",
    "    ndf[\"make 4\"] = [int(bool(x)) for x in df[\"trick 4\"].values.tolist()]\n",
    "    return ndf\n",
    "ndf = init_normal_dataframe()\n",
    "\n",
    "global_trick_data = np.concatenate([ndf[f\"trick {i}\"].values for i in range(1,5)])\n",
    "global_svariance = np.var(global_trick_data,ddof=1)\n",
    "global_smean = np.mean(global_trick_data)\n"
   ]
  },
  {
   "cell_type": "code",
   "execution_count": 5,
   "metadata": {},
   "outputs": [
    {
     "name": "stdout",
     "output_type": "stream",
     "text": [
      "           id      location  month  year        comp  heat  run 1  run 2  \\\n",
      "0      Berger  jacksonville      7  2022  prelim men     1   0.50   0.11   \n",
      "1        Papa  jacksonville      7  2022  prelim men     1   0.37   0.70   \n",
      "2     Pudwill  jacksonville      7  2022  prelim men     1   0.20   0.13   \n",
      "3      Shirai  jacksonville      7  2022  prelim men     1   0.79   0.70   \n",
      "4        Mota  jacksonville      7  2022  prelim men     1   0.38   0.40   \n",
      "..        ...           ...    ...   ...         ...   ...    ...    ...   \n",
      "92      Hoban     las vegas     10  2022   final men     1   0.62   0.88   \n",
      "93    Hoefler     las vegas     10  2022   final men     1   0.84   0.57   \n",
      "94      Eaton     las vegas     10  2022   final men     1   0.69   0.72   \n",
      "95     Joslin     las vegas     10  2022   final men     1   0.68   0.83   \n",
      "96  Ribeiro G     las vegas     10  2022   final men     1   0.85   0.30   \n",
      "\n",
      "    trick 1  trick 2  trick 3  trick 4  trick 5  trick 6  make 1  make 2  \\\n",
      "0      0.70     0.00     0.76     0.00      NaN      NaN       1       0   \n",
      "1      0.72     0.00     0.84     0.82      NaN      NaN       1       0   \n",
      "2      0.00     0.00     0.00     0.00      NaN      NaN       0       0   \n",
      "3      0.75     0.00     0.92     0.00      NaN      NaN       1       0   \n",
      "4      0.78     0.00     0.00     0.00      NaN      NaN       1       0   \n",
      "..      ...      ...      ...      ...      ...      ...     ...     ...   \n",
      "92     0.86     0.00     0.88     0.00     0.00     0.00       1       0   \n",
      "93     0.78     0.00     0.87     0.00     0.00     0.00       1       0   \n",
      "94     0.00     0.84     0.75     0.00      NaN      NaN       0       1   \n",
      "95     0.79     0.83     0.00     0.00     0.89     0.94       1       1   \n",
      "96     0.00     0.92     0.88     0.92     0.00     0.17       0       1   \n",
      "\n",
      "    make 3  make 4  \n",
      "0        1       0  \n",
      "1        1       1  \n",
      "2        0       0  \n",
      "3        1       0  \n",
      "4        0       0  \n",
      "..     ...     ...  \n",
      "92       1       0  \n",
      "93       1       0  \n",
      "94       1       0  \n",
      "95       0       0  \n",
      "96       1       1  \n",
      "\n",
      "[97 rows x 18 columns]\n"
     ]
    }
   ],
   "source": []
  }
 ],
 "metadata": {
  "kernelspec": {
   "display_name": "Python 3",
   "language": "python",
   "name": "python3"
  },
  "language_info": {
   "codemirror_mode": {
    "name": "ipython",
    "version": 3
   },
   "file_extension": ".py",
   "mimetype": "text/x-python",
   "name": "python",
   "nbconvert_exporter": "python",
   "pygments_lexer": "ipython3",
   "version": "3.8.0"
  }
 },
 "nbformat": 4,
 "nbformat_minor": 2
}
